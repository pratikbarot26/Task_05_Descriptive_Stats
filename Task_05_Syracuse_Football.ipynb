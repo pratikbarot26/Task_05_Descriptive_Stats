{
 "cells": [
  {
   "cell_type": "markdown",
   "metadata": {},
   "source": [
    "# 📘 Syracuse University iSchool OPT Research Task 05 — Programmatic Verification (2021 vs 2024)\n",
    "\n",
    "This notebook verifies the Q&A analysis of Syracuse Football’s 2021 and 2024 seasons.\n",
    "\n",
    "It checks the numbers from the **first-page cumulative stats PDFs**, which I **typed manually into Python dictionaries** (`season_2021` and `season_2024`) at the top of this notebook.\n",
    "\n",
    "> ⚠️ **No file reads here** — the input is only the two dictionaries. If the PDFs differ, update the dictionaries and re-run.\n",
    "\n",
    "The notebook:\n",
    "1. Computes each statistic difference (yards, points, 3rd downs, red zone, turnovers, etc.).\n",
    "2. Prints **True/False** for each LLM claim check (no exceptions thrown).\n",
    "3. Shows **descriptive stats** for the two seasons, including W–L and Win% splits.\n",
    "4. Produces simple bar charts.\n",
    "\n",
    "LLMs (ChatGPT GPT-4 and GPT-5) provided the narrative outputs. This notebook is the numerical source of truth."
   ]
  },
  {
   "cell_type": "code",
   "execution_count": null,
   "metadata": {},
   "outputs": [],
   "source": [
    "# --- Typed values (edit here if your PDFs differ) ---\n",
    "season_2021 = {\n",
    "    \"games\": 12,\n",
    "    \"wins\": 5,\n",
    "    \"losses\": 7,\n",
    "    \"conf_wl\": \"2-6\",\n",
    "    \"nonconf_wl\": \"3-1\",\n",
    "    \"home_wl\": \"3-3\",\n",
    "    \"away_wl\": \"2-4\",\n",
    "    \"neutral_wl\": \"0-0\",\n",
    "    \"off_total_yds_g\": 366.5,\n",
    "    \"off_rush_yds_g\": 213.5,\n",
    "    \"off_pass_yds_g\": 153.0,\n",
    "    \"off_yds_per_play\": 5.7,\n",
    "    \"plays_total\": 778,\n",
    "    \"pts_g\": 24.9,\n",
    "    \"third_down_pct\": 32.9,\n",
    "    \"top\": \"29:14\",\n",
    "    \"rz_score_pct\": 76.5,\n",
    "    \"rz_td_pct\": 58.8,\n",
    "    \"to_margin\": -5,\n",
    "    \"sacks_for\": 37,\n",
    "    \"sacks_allowed\": 32,\n",
    "    \"off_yds_per_rush\": 5.2,\n",
    "    \"def_yds_per_rush_allowed\": 3.5,\n",
    "    \"penalty_yds_g\": 58.5,\n",
    "    \"att_avg\": 32461,\n",
    "    \"att_total\": 227224\n",
    "}\n",
    "\n",
    "season_2024 = {\n",
    "    \"games\": 13,\n",
    "    \"wins\": 10,\n",
    "    \"losses\": 3,\n",
    "    \"conf_wl\": \"5-3\",\n",
    "    \"nonconf_wl\": \"5-0\",\n",
    "    \"home_wl\": \"5-2\",\n",
    "    \"away_wl\": \"4-1\",\n",
    "    \"neutral_wl\": \"1-0\",\n",
    "    \"off_total_yds_g\": 467.6,\n",
    "    \"off_rush_yds_g\": 97.6,\n",
    "    \"off_pass_yds_g\": 370.0,\n",
    "    \"off_yds_per_play\": 6.1,\n",
    "    \"plays_total\": 1000,\n",
    "    \"pts_g\": 34.1,\n",
    "    \"third_down_pct\": 49.0,\n",
    "    \"top\": \"33:04\",\n",
    "    \"rz_score_pct\": 85.5,\n",
    "    \"rz_td_pct\": 69.4,\n",
    "    \"to_margin\": 1,\n",
    "    \"sacks_for\": 27,\n",
    "    \"sacks_allowed\": 29,\n",
    "    \"off_yds_per_rush\": 3.2,\n",
    "    \"def_yds_per_rush_allowed\": 5.0,\n",
    "    \"penalty_yds_g\": 59.0,\n",
    "    \"att_avg\": 39130,\n",
    "    \"att_total\": 273913\n",
    "}\n",
    "\n",
    "season_2021, season_2024"
   ]
  },
  {
   "cell_type": "markdown",
   "metadata": {},
   "source": [
    "## 🔧 Helpers"
   ]
  },
  {
   "cell_type": "code",
   "execution_count": null,
   "metadata": {},
   "outputs": [],
   "source": [
    "def plays_per_game(total_plays, games):\n",
    "    return total_plays / games\n",
    "\n",
    "def top_to_minutes(top_str):\n",
    "    m, s = top_str.split(\":\")\n",
    "    return int(m) + int(s)/60.0\n",
    "\n",
    "def almost_equal(a, b, tol=1e-6):\n",
    "    return abs(a - b) <= tol\n",
    "\n",
    "def wl_to_tuple(wl):\n",
    "    w, l = wl.split(\"-\")\n",
    "    return int(w), int(l)\n",
    "\n",
    "def win_pct_from_wl(wl):\n",
    "    w, l = wl_to_tuple(wl)\n",
    "    return (w / (w + l)) * 100 if (w + l) > 0 else 0.0\n",
    "\n",
    "def win_pct(wins, losses):\n",
    "    total = wins + losses\n",
    "    return (wins / total) * 100 if total > 0 else 0.0"
   ]
  },
  {
   "cell_type": "markdown",
   "metadata": {},
   "source": [
    "## 📊 Descriptive Stats (W–L, Win% splits, season context)"
   ]
  },
  {
   "cell_type": "code",
   "execution_count": null,
   "metadata": {},
   "outputs": [],
   "source": [
    "import pandas as pd\n",
    "\n",
    "rows = []\n",
    "for yr, s in [(\"2021\", season_2021), (\"2024\", season_2024)]:\n",
    "    overall_wp = win_pct(s[\"wins\"], s[\"losses\"])\n",
    "    conf_wp = win_pct_from_wl(s[\"conf_wl\"]) if \"conf_wl\" in s else None\n",
    "    nconf_wp = win_pct_from_wl(s[\"nonconf_wl\"]) if \"nonconf_wl\" in s else None\n",
    "    home_wp = win_pct_from_wl(s[\"home_wl\"]) if \"home_wl\" in s else None\n",
    "    away_wp = win_pct_from_wl(s[\"away_wl\"]) if \"away_wl\" in s else None\n",
    "    neutral_wp = win_pct_from_wl(s[\"neutral_wl\"]) if \"neutral_wl\" in s else None\n",
    "\n",
    "    rows.append({\n",
    "        \"season\": yr,\n",
    "        \"W\": s[\"wins\"],\n",
    "        \"L\": s[\"losses\"],\n",
    "        \"Win%\": round(overall_wp, 1),\n",
    "        \"Conf W-L\": s[\"conf_wl\"],\n",
    "        \"Conf Win%\": round(conf_wp, 1),\n",
    "        \"NonConf W-L\": s[\"nonconf_wl\"],\n",
    "        \"NonConf Win%\": round(nconf_wp, 1),\n",
    "        \"Home W-L\": s[\"home_wl\"],\n",
    "        \"Home Win%\": round(home_wp, 1),\n",
    "        \"Away W-L\": s[\"away_wl\"],\n",
    "        \"Away Win%\": round(away_wp, 1),\n",
    "        \"Neutral W-L\": s[\"neutral_wl\"],\n",
    "        \"Neutral Win%\": round(neutral_wp, 1),\n",
    "        \"Plays/Game\": round(s[\"plays_total\"]/s[\"games\"], 1),\n",
    "        \"Yards/Game\": s[\"off_total_yds_g\"],\n",
    "        \"Points/Game\": s[\"pts_g\"],\n",
    "        \"3rd-Down %\": s[\"third_down_pct\"],\n",
    "        \"RZ Score %\": s[\"rz_score_pct\"],\n",
    "        \"RZ TD %\": s[\"rz_td_pct\"]\n",
    "    })\n",
    "\n",
    "df_desc = pd.DataFrame(rows).set_index(\"season\")\n",
    "print(\"\\n=== Descriptive Stats (W–L, Win% splits, core metrics) ===\\n\")\n",
    "print(df_desc)\n",
    "\n",
    "# Season-over-season changes (2024 - 2021) for selected metrics\n",
    "delta = pd.Series({\n",
    "    \"Win%\": df_desc.loc[\"2024\", \"Win%\"] - df_desc.loc[\"2021\", \"Win%\"],\n",
    "    \"Conf Win%\": df_desc.loc[\"2024\", \"Conf Win%\"] - df_desc.loc[\"2021\", \"Conf Win%\"],\n",
    "    \"NonConf Win%\": df_desc.loc[\"2024\", \"NonConf Win%\"] - df_desc.loc[\"2021\", \"NonConf Win%\"],\n",
    "    \"Home Win%\": df_desc.loc[\"2024\", \"Home Win%\"] - df_desc.loc[\"2021\", \"Home Win%\"],\n",
    "    \"Away Win%\": df_desc.loc[\"2024\", \"Away Win%\"] - df_desc.loc[\"2021\", \"Away Win%\"],\n",
    "    \"Plays/Game\": df_desc.loc[\"2024\", \"Plays/Game\"] - df_desc.loc[\"2021\", \"Plays/Game\"],\n",
    "    \"Yards/Game\": df_desc.loc[\"2024\", \"Yards/Game\"] - df_desc.loc[\"2021\", \"Yards/Game\"],\n",
    "    \"Points/Game\": df_desc.loc[\"2024\", \"Points/Game\"] - df_desc.loc[\"2021\", \"Points/Game\"],\n",
    "    \"3rd-Down %\": df_desc.loc[\"2024\", \"3rd-Down %\"] - df_desc.loc[\"2021\", \"3rd-Down %\"],\n",
    "    \"RZ Score %\": df_desc.loc[\"2024\", \"RZ Score %\"] - df_desc.loc[\"2021\", \"RZ Score %\"],\n",
    "    \"RZ TD %\": df_desc.loc[\"2024\", \"RZ TD %\"] - df_desc.loc[\"2021\", \"RZ TD %\"]\n",
    "}).round(1)\n",
    "\n",
    "print(\"\\n=== Season-over-Season Changes (2024 minus 2021) ===\\n\")\n",
    "print(delta)"
   ]
  },
  {
   "cell_type": "markdown",
   "metadata": {},
   "source": [
    "## ✅ Claim Checks (True/False)"
   ]
  },
  {
   "cell_type": "code",
   "execution_count": null,
   "metadata": {},
   "outputs": [],
   "source": [
    "# Q1: Identity shift (rush vs pass)\n",
    "rush_drop = season_2021[\"off_rush_yds_g\"] - season_2024[\"off_rush_yds_g\"]\n",
    "pass_rise = season_2024[\"off_pass_yds_g\"] - season_2021[\"off_pass_yds_g\"]\n",
    "pass_share_2024 = season_2024[\"off_pass_yds_g\"] / season_2024[\"off_total_yds_g\"]\n",
    "\n",
    "print(\"Rush drop (yds/g):\", round(rush_drop, 1))\n",
    "print(\"Pass rise (yds/g):\", round(pass_rise, 1))\n",
    "print(\"2024 pass share (%):\", round(pass_share_2024*100, 1))\n",
    "\n",
    "print(\"Check: rush_drop == 115.9 ->\", almost_equal(round(rush_drop,1), 115.9))\n",
    "print(\"Check: pass_rise == 217.0 ->\", almost_equal(round(pass_rise,1), 217.0))\n",
    "print(\"Check: pass_share ~ 80% (75–85) ->\", 75 <= pass_share_2024*100 <= 85)"
   ]
  },
  {
   "cell_type": "code",
   "execution_count": null,
   "metadata": {},
   "outputs": [],
   "source": [
    "# Q2: Production (yards, points, ypp, plays)\n",
    "yds_gain = season_2024[\"off_total_yds_g\"] - season_2021[\"off_total_yds_g\"]\n",
    "pts_gain = season_2024[\"pts_g\"] - season_2021[\"pts_g\"]\n",
    "ypp_gain = season_2024[\"off_yds_per_play\"] - season_2021[\"off_yds_per_play\"]\n",
    "\n",
    "ppg_2021 = plays_per_game(season_2021[\"plays_total\"], season_2021[\"games\"])\n",
    "ppg_2024 = plays_per_game(season_2024[\"plays_total\"], season_2024[\"games\"])\n",
    "\n",
    "print(\"Yards/g gain:\", round(yds_gain, 1))\n",
    "print(\"Points/g gain:\", round(pts_gain, 1))\n",
    "print(\"Yards/play gain:\", round(ypp_gain, 1))\n",
    "print(\"Plays/g 2021:\", round(ppg_2021, 1))\n",
    "print(\"Plays/g 2024:\", round(ppg_2024, 1))\n",
    "\n",
    "print(\"Check: yds_gain == 101.1 ->\", almost_equal(round(yds_gain,1), 101.1))\n",
    "print(\"Check: pts_gain == 9.2 ->\", almost_equal(round(pts_gain,1), 9.2))\n",
    "print(\"Check: ypp_gain == 0.4 ->\", almost_equal(round(ypp_gain,1), 0.4))\n",
    "print(\"Check: plays/g 2021 == 64.8 ->\", almost_equal(round(ppg_2021,1), 64.8))\n",
    "print(\"Check: plays/g 2024 == 76.9 ->\", almost_equal(round(ppg_2024,1), 76.9))"
   ]
  },
  {
   "cell_type": "code",
   "execution_count": null,
   "metadata": {},
   "outputs": [],
   "source": [
    "# Q3: Third downs and TOP\n",
    "third_delta = season_2024[\"third_down_pct\"] - season_2021[\"third_down_pct\"]\n",
    "top_2021 = top_to_minutes(season_2021[\"top\"])  # minutes decimal\n",
    "top_2024 = top_to_minutes(season_2024[\"top\"])  # minutes decimal\n",
    "top_diff_min = top_2024 - top_2021\n",
    "\n",
    "print(\"Third-down delta (pp):\", round(third_delta, 1))\n",
    "print(\"TOP 2021 (min):\", round(top_2021, 2))\n",
    "print(\"TOP 2024 (min):\", round(top_2024, 2))\n",
    "print(\"TOP diff (min):\", round(top_diff_min, 2))\n",
    "\n",
    "print(\"Check: third_delta == 16.1 ->\", almost_equal(round(third_delta,1), 16.1))\n",
    "print(\"Check: TOP diff ~ +3.8 min ->\", 3.7 <= top_diff_min <= 3.9)"
   ]
  },
  {
   "cell_type": "code",
   "execution_count": null,
   "metadata": {},
   "outputs": [],
   "source": [
    "# Q4: Red zone\n",
    "rz_score_delta = season_2024[\"rz_score_pct\"] - season_2021[\"rz_score_pct\"]\n",
    "rz_td_delta = season_2024[\"rz_td_pct\"] - season_2021[\"rz_td_pct\"]\n",
    "\n",
    "print(\"RZ score delta (pp):\", round(rz_score_delta, 1))\n",
    "print(\"RZ TD delta (pp):\", round(rz_td_delta, 1))\n",
    "\n",
    "print(\"Check: RZ score delta == 9.0 ->\", almost_equal(round(rz_score_delta,1), 9.0))\n",
    "print(\"Check: RZ TD delta == 10.6 ->\", almost_equal(round(rz_td_delta,1), 10.6))"
   ]
  },
  {
   "cell_type": "code",
   "execution_count": null,
   "metadata": {},
   "outputs": [],
   "source": [
    "# Q5: Turnovers and sacks\n",
    "to_delta = season_2024[\"to_margin\"] - season_2021[\"to_margin\"]\n",
    "sacks_for_delta = season_2024[\"sacks_for\"] - season_2021[\"sacks_for\"]\n",
    "sacks_allowed_delta = season_2024[\"sacks_allowed\"] - season_2021[\"sacks_allowed\"]\n",
    "\n",
    "print(\"TO margin delta:\", to_delta)\n",
    "print(\"Sacks for delta:\", sacks_for_delta)\n",
    "print(\"Sacks allowed delta:\", sacks_allowed_delta)\n",
    "\n",
    "print(\"Check: TO margin delta == 6 ->\", to_delta == 6)\n",
    "print(\"Check: sacks_for delta == -10 ->\", sacks_for_delta == -10)\n",
    "print(\"Check: sacks_allowed delta == -3 ->\", sacks_allowed_delta == -3)"
   ]
  },
  {
   "cell_type": "code",
   "execution_count": null,
   "metadata": {},
   "outputs": [],
   "source": [
    "# Q6: Rushing efficiency vs rush defense\n",
    "off_rush_eff_drop = season_2021[\"off_yds_per_rush\"] - season_2024[\"off_yds_per_rush\"]\n",
    "def_rush_eff_rise = season_2024[\"def_yds_per_rush_allowed\"] - season_2021[\"def_yds_per_rush_allowed\"]\n",
    "\n",
    "print(\"Off yds/rush drop:\", round(off_rush_eff_drop, 1))\n",
    "print(\"Def yds/rush allowed rise:\", round(def_rush_eff_rise, 1))\n",
    "\n",
    "print(\"Check: off yds/rush drop == 2.0 ->\", almost_equal(round(off_rush_eff_drop,1), 2.0))\n",
    "print(\"Check: def yds/rush rise == 1.5 ->\", almost_equal(round(def_rush_eff_rise,1), 1.5))"
   ]
  },
  {
   "cell_type": "code",
   "execution_count": null,
   "metadata": {},
   "outputs": [],
   "source": [
    "# Q7: Penalties (no strict assertion — both seasons ~58–59 yds/g)\n",
    "pen_delta = season_2024[\"penalty_yds_g\"] - season_2021[\"penalty_yds_g\"]\n",
    "print(\"Penalty yards/g delta (approx):\", round(pen_delta, 1))\n",
    "print(\"Check: penalties roughly stable ->\", abs(pen_delta) <= 1.0)"
   ]
  },
  {
   "cell_type": "markdown",
   "metadata": {},
   "source": [
    "## 📉 Simple Visuals (matplotlib)"
   ]
  },
  {
   "cell_type": "code",
   "execution_count": null,
   "metadata": {},
   "outputs": [],
   "source": [
    "import matplotlib.pyplot as plt\n",
    "\n",
    "labels = [\"2021\", \"2024\"]\n",
    "yds = [season_2021[\"off_total_yds_g\"], season_2024[\"off_total_yds_g\"]]\n",
    "pts = [season_2021[\"pts_g\"], season_2024[\"pts_g\"]]\n",
    "plays = [season_2021[\"plays_total\"] / season_2021[\"games\"],\n",
    "         season_2024[\"plays_total\"] / season_2024[\"games\"]]\n",
    "\n",
    "plt.figure(figsize=(6,4))\n",
    "plt.bar(labels, yds)\n",
    "plt.title(\"Total Offense (yds/game)\")\n",
    "plt.ylabel(\"Yards per game\")\n",
    "plt.tight_layout()\n",
    "plt.show()\n",
    "\n",
    "plt.figure(figsize=(6,4))\n",
    "plt.bar(labels, pts)\n",
    "plt.title(\"Scoring (points/game)\")\n",
    "plt.ylabel(\"Points per game\")\n",
    "plt.tight_layout()\n",
    "plt.show()\n",
    "\n",
    "plt.figure(figsize=(6,4))\n",
    "plt.bar(labels, plays)\n",
    "plt.title(\"Tempo (plays/game)\")\n",
    "plt.ylabel(\"Plays per game\")\n",
    "plt.tight_layout()\n",
    "plt.show()"
   ]
  },
  {
   "cell_type": "markdown",
   "metadata": {},
   "source": [
    "## 🧾 Result & Credits\n",
    "- All LLM claims print **True/False** checks above and align with the typed first-page numbers.\n",
    "- Descriptive stats summarize W–L and Win% splits (overall, conference, non-conference, home, away, neutral).\n",
    "- If your PDFs differ, update the dictionaries at the top and re-run.\n",
    "\n",
    "_Notebook built by the student with assistance from ChatGPT (GPT-4 and GPT-5)._"
   ]
  },
  {
   "cell_type": "code",
   "execution_count": null,
   "metadata": {},
   "outputs": [],
   "source": [
    "print(\"Notebook built by the student with assistance from ChatGPT (GPT-4 and GPT-5).\")"
   ]
  }
 ],
 "metadata": {
  "kernelspec": {
   "display_name": "Python 3",
   "language": "python",
   "name": "python3"
  },
  "language_info": {
   "name": "python",
   "version": "3.11"
  }
 },
 "nbformat": 4,
 "nbformat_minor": 5
}
